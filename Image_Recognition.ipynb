{
  "nbformat": 4,
  "nbformat_minor": 0,
  "metadata": {
    "colab": {
      "provenance": [],
      "include_colab_link": true
    },
    "kernelspec": {
      "name": "python3",
      "display_name": "Python 3"
    },
    "language_info": {
      "name": "python"
    }
  },
  "cells": [
    {
      "cell_type": "markdown",
      "metadata": {
        "id": "view-in-github",
        "colab_type": "text"
      },
      "source": [
        "<a href=\"https://colab.research.google.com/github/mrishikreddy/Projects/blob/main/Image_Recognition.ipynb\" target=\"_parent\"><img src=\"https://colab.research.google.com/assets/colab-badge.svg\" alt=\"Open In Colab\"/></a>"
      ]
    },
    {
      "cell_type": "code",
      "execution_count": null,
      "metadata": {
        "id": "bG0yzqp-7K9m"
      },
      "outputs": [],
      "source": [
        "import numpy as np\n",
        "import cv2\n",
        "import tensorflow as tf\n",
        "from keras.models import Sequential, load_model\n",
        "from keras.layers import Dense, Conv2D, MaxPooling2D, Flatten\n",
        "from keras.utils import to_categorical\n",
        "from keras.datasets import mnist"
      ]
    },
    {
      "cell_type": "code",
      "source": [
        "(X_train, y_train), (X_test, y_test) = mnist.load_data()"
      ],
      "metadata": {
        "id": "KoTAyLHc7khX"
      },
      "execution_count": null,
      "outputs": []
    },
    {
      "cell_type": "code",
      "source": [
        "X_train = X_train.reshape(X_train.shape[0], 28, 28, 1).astype('float32') / 255\n",
        "X_test = X_test.reshape(X_test.shape[0], 28, 28, 1).astype('float32') / 255\n",
        "y_train = to_categorical(y_train)\n",
        "y_test = to_categorical(y_test)\n",
        "num_classes = y_test.shape[1]"
      ],
      "metadata": {
        "id": "SFyoRvXX7Sp3"
      },
      "execution_count": null,
      "outputs": []
    },
    {
      "cell_type": "code",
      "source": [
        "def convolutional_model():\n",
        "    model = Sequential([\n",
        "        Conv2D(16, (5, 5), activation='relu', input_shape=(28, 28, 1)),\n",
        "        MaxPooling2D(pool_size=(2, 2), strides=(2, 2)),\n",
        "        Conv2D(8, (2, 2), activation='relu'),\n",
        "        MaxPooling2D(pool_size=(2, 2), strides=(2, 2)),\n",
        "        Flatten(),\n",
        "        Dense(100, activation='relu'),\n",
        "        Dense(num_classes, activation='softmax')\n",
        "    ])\n",
        "    model.compile(optimizer='adam', loss='categorical_crossentropy', metrics=['accuracy'])\n",
        "    return model"
      ],
      "metadata": {
        "id": "3SxvCpg_IlSA"
      },
      "execution_count": null,
      "outputs": []
    },
    {
      "cell_type": "code",
      "source": [
        "# Train and save model\n",
        "model = convolutional_model()\n",
        "model.fit(X_train, y_train, validation_data=(X_test, y_test), epochs=10, batch_size=200, verbose=2)\n",
        "model.save(\"mnist_model.h5\")  # Save the trained model"
      ],
      "metadata": {
        "colab": {
          "base_uri": "https://localhost:8080/"
        },
        "id": "Xr3puePmInxX",
        "outputId": "6b91dd69-91b8-45c5-e535-d22f0bf21a06"
      },
      "execution_count": null,
      "outputs": [
        {
          "output_type": "stream",
          "name": "stdout",
          "text": [
            "Epoch 1/10\n",
            "300/300 - 35s - 115ms/step - accuracy: 0.8552 - loss: 0.4811 - val_accuracy: 0.9575 - val_loss: 0.1357\n",
            "Epoch 2/10\n",
            "300/300 - 30s - 100ms/step - accuracy: 0.9648 - loss: 0.1174 - val_accuracy: 0.9718 - val_loss: 0.0873\n",
            "Epoch 3/10\n",
            "300/300 - 41s - 137ms/step - accuracy: 0.9747 - loss: 0.0831 - val_accuracy: 0.9789 - val_loss: 0.0658\n",
            "Epoch 4/10\n",
            "300/300 - 40s - 132ms/step - accuracy: 0.9793 - loss: 0.0674 - val_accuracy: 0.9828 - val_loss: 0.0491\n",
            "Epoch 5/10\n",
            "300/300 - 22s - 73ms/step - accuracy: 0.9831 - loss: 0.0546 - val_accuracy: 0.9828 - val_loss: 0.0513\n",
            "Epoch 6/10\n",
            "300/300 - 40s - 132ms/step - accuracy: 0.9851 - loss: 0.0479 - val_accuracy: 0.9856 - val_loss: 0.0408\n",
            "Epoch 7/10\n",
            "300/300 - 22s - 73ms/step - accuracy: 0.9873 - loss: 0.0417 - val_accuracy: 0.9868 - val_loss: 0.0407\n",
            "Epoch 8/10\n",
            "300/300 - 42s - 140ms/step - accuracy: 0.9881 - loss: 0.0387 - val_accuracy: 0.9865 - val_loss: 0.0395\n",
            "Epoch 9/10\n",
            "300/300 - 40s - 133ms/step - accuracy: 0.9891 - loss: 0.0358 - val_accuracy: 0.9898 - val_loss: 0.0318\n",
            "Epoch 10/10\n",
            "300/300 - 41s - 136ms/step - accuracy: 0.9905 - loss: 0.0314 - val_accuracy: 0.9889 - val_loss: 0.0320\n"
          ]
        },
        {
          "output_type": "stream",
          "name": "stderr",
          "text": [
            "WARNING:absl:You are saving your model as an HDF5 file via `model.save()` or `keras.saving.save_model(model)`. This file format is considered legacy. We recommend using instead the native Keras format, e.g. `model.save('my_model.keras')` or `keras.saving.save_model(model, 'my_model.keras')`. \n"
          ]
        }
      ]
    },
    {
      "cell_type": "code",
      "source": [
        "# Evaluate the model\n",
        "scores = model.evaluate(X_test, y_test, verbose=0)\n",
        "print(\"Test Accuracy: {} \\n Test Error: {}\".format(scores[1], 100-scores[1]*100))"
      ],
      "metadata": {
        "colab": {
          "base_uri": "https://localhost:8080/"
        },
        "id": "YCF0-y0vIseo",
        "outputId": "b2d41111-223c-4b88-f511-b99c000b947e"
      },
      "execution_count": null,
      "outputs": [
        {
          "output_type": "stream",
          "name": "stdout",
          "text": [
            "Test Accuracy: 0.9889000058174133 \n",
            " Test Error: 1.109999418258667\n"
          ]
        }
      ]
    }
  ]
}